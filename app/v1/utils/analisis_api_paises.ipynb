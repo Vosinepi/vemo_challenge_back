{
 "cells": [
  {
   "cell_type": "code",
   "execution_count": 1,
   "metadata": {},
   "outputs": [],
   "source": [
    "import requests\n",
    "import pandas as pd\n",
    "import psycopg2 as pg"
   ]
  },
  {
   "cell_type": "code",
   "execution_count": 3,
   "metadata": {},
   "outputs": [],
   "source": [
    "api = \"https://restcountries.com/v3.1/all\""
   ]
  },
  {
   "cell_type": "code",
   "execution_count": 3,
   "metadata": {},
   "outputs": [
    {
     "ename": "ImportError",
     "evalue": "attempted relative import with no known parent package",
     "output_type": "error",
     "traceback": [
      "\u001b[1;31m---------------------------------------------------------------------------\u001b[0m",
      "\u001b[1;31mImportError\u001b[0m                               Traceback (most recent call last)",
      "Cell \u001b[1;32mIn[3], line 1\u001b[0m\n\u001b[1;32m----> 1\u001b[0m \u001b[39mfrom\u001b[39;00m \u001b[39m.\u001b[39;00m\u001b[39m.\u001b[39;00m\u001b[39mutils\u001b[39;00m\u001b[39m.\u001b[39;00m\u001b[39mdb\u001b[39;00m \u001b[39mimport\u001b[39;00m Base, engine\n",
      "\u001b[1;31mImportError\u001b[0m: attempted relative import with no known parent package"
     ]
    }
   ],
   "source": [
    "from ..utils.db import Base, engine"
   ]
  },
  {
   "cell_type": "code",
   "execution_count": 14,
   "metadata": {},
   "outputs": [
    {
     "data": {
      "text/plain": [
       "200"
      ]
     },
     "execution_count": 14,
     "metadata": {},
     "output_type": "execute_result"
    }
   ],
   "source": [
    "# hacemos la petición\n",
    "\n",
    "response = requests.get(api)\n",
    "\n",
    "# comprobamos que la petición nos devuelve un Status Code = 200\n",
    "\n",
    "response.status_code\n",
    "\n"
   ]
  },
  {
   "cell_type": "code",
   "execution_count": 68,
   "metadata": {},
   "outputs": [
    {
     "name": "stdout",
     "output_type": "stream",
     "text": [
      "{'name': {'common': 'Jordan', 'official': 'Hashemite Kingdom of Jordan', 'nativeName': {'ara': {'official': 'المملكة الأردنية الهاشمية', 'common': 'الأردن'}}}, 'tld': ['.jo', 'الاردن.'], 'cca2': 'JO', 'ccn3': '400', 'cca3': 'JOR', 'cioc': 'JOR', 'independent': True, 'status': 'officially-assigned', 'unMember': True, 'currencies': {'JOD': {'name': 'Jordanian dinar', 'symbol': 'د.ا'}}, 'idd': {'root': '+9', 'suffixes': ['62']}, 'capital': ['Amman'], 'altSpellings': ['JO', 'Hashemite Kingdom of Jordan', 'al-Mamlakah al-Urdunīyah al-Hāshimīyah'], 'region': 'Asia', 'subregion': 'Western Asia', 'languages': {'ara': 'Arabic'}, 'translations': {'ara': {'official': 'المملكة الأردنية الهاشمية', 'common': 'الأردن'}, 'bre': {'official': 'Rouantelezh hachemit Jordania', 'common': 'Jordania'}, 'ces': {'official': 'Jordánské hášimovské království', 'common': 'Jordánsko'}, 'cym': {'official': 'Hashemite Kingdom of Jordan', 'common': 'Jordan'}, 'deu': {'official': 'Haschemitisches Königreich Jordanien', 'common': 'Jordanien'}, 'est': {'official': 'Jordaania Hašimiidi Kuningriik', 'common': 'Jordaania'}, 'fin': {'official': 'Jordanian hašemiittinen kunigaskunta', 'common': 'Jordania'}, 'fra': {'official': 'Royaume hachémite de Jordanie', 'common': 'Jordanie'}, 'hrv': {'official': 'Hašemitske Kraljevine Jordan', 'common': 'Jordan'}, 'hun': {'official': 'Jordánia', 'common': 'Jordánia'}, 'ita': {'official': 'Regno hascemita di Giordania', 'common': 'Giordania'}, 'jpn': {'official': 'ヨルダン·ハシミテ王国', 'common': 'ヨルダン'}, 'kor': {'official': '요르단 하심 왕국', 'common': '요르단'}, 'nld': {'official': 'Hasjemitisch Koninkrijk Jordanië', 'common': 'Jordanië'}, 'per': {'official': 'پادشاهی اُردُن هاشمی', 'common': 'اردن'}, 'pol': {'official': 'Jordańskie Królestwo Haszymidzkie', 'common': 'Jordania'}, 'por': {'official': 'Reino Hachemita da Jordânia', 'common': 'Jordânia'}, 'rus': {'official': 'Иорданского Хашимитского Королевства', 'common': 'Иордания'}, 'slk': {'official': 'Jordánske hášimovské kráľovstvo', 'common': 'Jordánsko'}, 'spa': {'official': 'Reino Hachemita de Jordania', 'common': 'Jordania'}, 'srp': {'official': 'Хашемитска Краљевина Јордан', 'common': 'Јордан'}, 'swe': {'official': 'Hashimitiska kungadömet Jordanien', 'common': 'Jordanien'}, 'tur': {'official': 'Ürdün Hâşimi Krallığı', 'common': 'Ürdün'}, 'urd': {'official': 'ھاشمی مملکتِ اردن', 'common': 'اردن'}, 'zho': {'official': '约旦哈希姆王国', 'common': '约旦'}}, 'latlng': [31.0, 36.0], 'landlocked': False, 'borders': ['IRQ', 'ISR', 'PSE', 'SAU', 'SYR'], 'area': 89342.0, 'demonyms': {'eng': {'f': 'Jordanian', 'm': 'Jordanian'}, 'fra': {'f': 'Jordanienne', 'm': 'Jordanien'}}, 'flag': '🇯🇴', 'maps': {'googleMaps': 'https://goo.gl/maps/ko1dzSDKg8Gsi9A98', 'openStreetMaps': 'https://www.openstreetmap.org/relation/184818'}, 'population': 10203140, 'gini': {'2010': 33.7}, 'fifa': 'JOR', 'car': {'signs': ['HKJ'], 'side': 'right'}, 'timezones': ['UTC+03:00'], 'continents': ['Asia'], 'flags': {'png': 'https://flagcdn.com/w320/jo.png', 'svg': 'https://flagcdn.com/jo.svg', 'alt': 'The flag of Jordan is composed of three equal horizontal bands of black, white and green, with a red isosceles triangle superimposed on the hoist side of the field. This triangle has its base on the hoist end, spans about half the width of the field and bears a small seven-pointed white star at its center.'}, 'coatOfArms': {'png': 'https://mainfacts.com/media/images/coats_of_arms/jo.png', 'svg': 'https://mainfacts.com/media/images/coats_of_arms/jo.svg'}, 'startOfWeek': 'sunday', 'capitalInfo': {'latlng': [31.95, 35.93]}, 'postalCode': {'format': '#####', 'regex': '^(\\\\d{5})$'}}\n",
      "Jordan\n",
      "Amman\n",
      "Jordanian dinar\n",
      "Asia\n",
      "Arabic\n",
      "10203140\n",
      "https://flagcdn.com/w320/jo.png\n"
     ]
    }
   ],
   "source": [
    "# solo vemos del json la informacion que necesitamos del primer pais\n",
    "\n",
    "pais = response.json()[0]\n",
    "\n",
    "name = pais[\"name\"][\"common\"]\n",
    "capital = pais[\"capital\"][0]\n",
    "# filtramos las monedas para que solo nos muestre el nombre de la moneda sin comillas\n",
    "currencies = [pais[\"currencies\"][moneda] for moneda in pais[\"currencies\"]][0]['name']\n",
    "\n",
    "continente = pais[\"continents\"][0]\n",
    "# filtramos los idiomas para que solo nos muestre el nombre del idioma sin comillas\n",
    "\n",
    "languages = [pais[\"languages\"][idioma] for idioma in pais[\"languages\"]][0]\n",
    "\n",
    "\n",
    "population = pais[\"population\"]\n",
    "flag = pais[\"flags\"][\"png\"]\n",
    "\n",
    "print(pais)\n",
    "print(name)\n",
    "print(capital)\n",
    "print(currencies)\n",
    "print(continente)\n",
    "print(languages)\n",
    "print(population)\n",
    "print(flag)\n",
    "\n"
   ]
  },
  {
   "cell_type": "code",
   "execution_count": 13,
   "metadata": {},
   "outputs": [
    {
     "data": {
      "text/html": [
       "<div>\n",
       "<style scoped>\n",
       "    .dataframe tbody tr th:only-of-type {\n",
       "        vertical-align: middle;\n",
       "    }\n",
       "\n",
       "    .dataframe tbody tr th {\n",
       "        vertical-align: top;\n",
       "    }\n",
       "\n",
       "    .dataframe thead th {\n",
       "        text-align: right;\n",
       "    }\n",
       "</style>\n",
       "<table border=\"1\" class=\"dataframe\">\n",
       "  <thead>\n",
       "    <tr style=\"text-align: right;\">\n",
       "      <th></th>\n",
       "      <th>name</th>\n",
       "      <th>capital</th>\n",
       "      <th>currencies</th>\n",
       "      <th>continents</th>\n",
       "      <th>languages</th>\n",
       "      <th>population</th>\n",
       "      <th>flags</th>\n",
       "    </tr>\n",
       "  </thead>\n",
       "  <tbody>\n",
       "    <tr>\n",
       "      <th>0</th>\n",
       "      <td>{'common': 'Jordan', 'official': 'Hashemite Ki...</td>\n",
       "      <td>[Amman]</td>\n",
       "      <td>{'JOD': {'name': 'Jordanian dinar', 'symbol': ...</td>\n",
       "      <td>[Asia]</td>\n",
       "      <td>{'ara': 'Arabic'}</td>\n",
       "      <td>10203140</td>\n",
       "      <td>{'png': 'https://flagcdn.com/w320/jo.png', 'sv...</td>\n",
       "    </tr>\n",
       "    <tr>\n",
       "      <th>1</th>\n",
       "      <td>{'common': 'Northern Mariana Islands', 'offici...</td>\n",
       "      <td>[Saipan]</td>\n",
       "      <td>{'USD': {'name': 'United States dollar', 'symb...</td>\n",
       "      <td>[Oceania]</td>\n",
       "      <td>{'cal': 'Carolinian', 'cha': 'Chamorro', 'eng'...</td>\n",
       "      <td>57557</td>\n",
       "      <td>{'png': 'https://flagcdn.com/w320/mp.png', 'sv...</td>\n",
       "    </tr>\n",
       "    <tr>\n",
       "      <th>2</th>\n",
       "      <td>{'common': 'Serbia', 'official': 'Republic of ...</td>\n",
       "      <td>[Belgrade]</td>\n",
       "      <td>{'RSD': {'name': 'Serbian dinar', 'symbol': 'д...</td>\n",
       "      <td>[Europe]</td>\n",
       "      <td>{'srp': 'Serbian'}</td>\n",
       "      <td>6908224</td>\n",
       "      <td>{'png': 'https://flagcdn.com/w320/rs.png', 'sv...</td>\n",
       "    </tr>\n",
       "    <tr>\n",
       "      <th>3</th>\n",
       "      <td>{'common': 'Andorra', 'official': 'Principalit...</td>\n",
       "      <td>[Andorra la Vella]</td>\n",
       "      <td>{'EUR': {'name': 'Euro', 'symbol': '€'}}</td>\n",
       "      <td>[Europe]</td>\n",
       "      <td>{'cat': 'Catalan'}</td>\n",
       "      <td>77265</td>\n",
       "      <td>{'png': 'https://flagcdn.com/w320/ad.png', 'sv...</td>\n",
       "    </tr>\n",
       "    <tr>\n",
       "      <th>4</th>\n",
       "      <td>{'common': 'Turks and Caicos Islands', 'offici...</td>\n",
       "      <td>[Cockburn Town]</td>\n",
       "      <td>{'USD': {'name': 'United States dollar', 'symb...</td>\n",
       "      <td>[North America]</td>\n",
       "      <td>{'eng': 'English'}</td>\n",
       "      <td>38718</td>\n",
       "      <td>{'png': 'https://flagcdn.com/w320/tc.png', 'sv...</td>\n",
       "    </tr>\n",
       "  </tbody>\n",
       "</table>\n",
       "</div>"
      ],
      "text/plain": [
       "                                                name             capital  \\\n",
       "0  {'common': 'Jordan', 'official': 'Hashemite Ki...             [Amman]   \n",
       "1  {'common': 'Northern Mariana Islands', 'offici...            [Saipan]   \n",
       "2  {'common': 'Serbia', 'official': 'Republic of ...          [Belgrade]   \n",
       "3  {'common': 'Andorra', 'official': 'Principalit...  [Andorra la Vella]   \n",
       "4  {'common': 'Turks and Caicos Islands', 'offici...     [Cockburn Town]   \n",
       "\n",
       "                                          currencies       continents  \\\n",
       "0  {'JOD': {'name': 'Jordanian dinar', 'symbol': ...           [Asia]   \n",
       "1  {'USD': {'name': 'United States dollar', 'symb...        [Oceania]   \n",
       "2  {'RSD': {'name': 'Serbian dinar', 'symbol': 'д...         [Europe]   \n",
       "3           {'EUR': {'name': 'Euro', 'symbol': '€'}}         [Europe]   \n",
       "4  {'USD': {'name': 'United States dollar', 'symb...  [North America]   \n",
       "\n",
       "                                           languages  population  \\\n",
       "0                                  {'ara': 'Arabic'}    10203140   \n",
       "1  {'cal': 'Carolinian', 'cha': 'Chamorro', 'eng'...       57557   \n",
       "2                                 {'srp': 'Serbian'}     6908224   \n",
       "3                                 {'cat': 'Catalan'}       77265   \n",
       "4                                 {'eng': 'English'}       38718   \n",
       "\n",
       "                                               flags  \n",
       "0  {'png': 'https://flagcdn.com/w320/jo.png', 'sv...  \n",
       "1  {'png': 'https://flagcdn.com/w320/mp.png', 'sv...  \n",
       "2  {'png': 'https://flagcdn.com/w320/rs.png', 'sv...  \n",
       "3  {'png': 'https://flagcdn.com/w320/ad.png', 'sv...  \n",
       "4  {'png': 'https://flagcdn.com/w320/tc.png', 'sv...  "
      ]
     },
     "execution_count": 13,
     "metadata": {},
     "output_type": "execute_result"
    }
   ],
   "source": [
    "# damos formato a la información que necesitamos Nombre, Capital, Moneda, Continente, Lenguaje, Población y Bandera.\n",
    "\n",
    "df_nuevo = df[[\"name\", \"capital\", \"currencies\", \"continents\", \"languages\", \"population\", \"flags\"]]\n",
    "\n",
    "# comprobamos que el DataFrame tiene la información que necesitamos\n",
    "\n",
    "df_nuevo.head()"
   ]
  },
  {
   "cell_type": "code",
   "execution_count": 2,
   "metadata": {},
   "outputs": [],
   "source": [
    "# conectamos con la base de datos\n",
    "\n",
    "connection = pg.connect(\n",
    "    host=\"127.0.0.1\",\n",
    "    port=\"5000\",\n",
    "    \n",
    "    user=\"postgres\",\n",
    "    password=\"postgres\",\n",
    ")\n",
    "\n",
    "# creamos el cursor\n",
    "\n",
    "cursor = connection.cursor()\n",
    "\n",
    "# probamos la conexión\n",
    "\n",
    "\n",
    "\n",
    "\n"
   ]
  },
  {
   "cell_type": "code",
   "execution_count": 1,
   "metadata": {},
   "outputs": [
    {
     "name": "stdout",
     "output_type": "stream",
     "text": [
      "c:\\codeo_juego\\vemo_challenge_back\\app\\v1\\utils\n",
      "C:\\Program Files\\Python311\\python311.zip\n",
      "C:\\Program Files\\Python311\\DLLs\n",
      "C:\\Program Files\\Python311\\Lib\n",
      "C:\\Program Files\\Python311\n",
      "c:\\codeo_juego\\vemo_challenge_back\\venv\n",
      "\n",
      "c:\\codeo_juego\\vemo_challenge_back\\venv\\Lib\\site-packages\n",
      "c:\\codeo_juego\\vemo_challenge_back\\venv\\Lib\\site-packages\\win32\n",
      "c:\\codeo_juego\\vemo_challenge_back\\venv\\Lib\\site-packages\\win32\\lib\n",
      "c:\\codeo_juego\\vemo_challenge_back\\venv\\Lib\\site-packages\\Pythonwin\n"
     ]
    }
   ],
   "source": [
    "import sys\n",
    "\n",
    "# sys.path.append(r'c:\\\\codeo_juego\\\\vemo_backend\\\\v1\\\\utils')\n",
    "\n",
    "for i in sys.path:\n",
    "    print(i)"
   ]
  }
 ],
 "metadata": {
  "kernelspec": {
   "display_name": "venv",
   "language": "python",
   "name": "python3"
  },
  "language_info": {
   "codemirror_mode": {
    "name": "ipython",
    "version": 3
   },
   "file_extension": ".py",
   "mimetype": "text/x-python",
   "name": "python",
   "nbconvert_exporter": "python",
   "pygments_lexer": "ipython3",
   "version": "3.11.4"
  },
  "orig_nbformat": 4
 },
 "nbformat": 4,
 "nbformat_minor": 2
}
